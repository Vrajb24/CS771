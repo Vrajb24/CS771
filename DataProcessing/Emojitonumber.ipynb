{
 "cells": [
  {
   "cell_type": "code",
   "execution_count": 1,
   "metadata": {},
   "outputs": [],
   "source": [
    "import pandas as pd\n",
    "import regex as re"
   ]
  },
  {
   "cell_type": "code",
   "execution_count": 2,
   "metadata": {},
   "outputs": [],
   "source": [
    "# Step 1: Read the data from 'train_emoticon.csv'\n",
    "# Assuming the CSV file has no header and columns are 'emoji_sequence' and 'label'\n",
    "df = pd.read_csv('/home/belief/Desktop/MLProj1/mini-project-1/datasets/train/train_emoticon.csv')"
   ]
  },
  {
   "cell_type": "code",
   "execution_count": 3,
   "metadata": {},
   "outputs": [],
   "source": [
    "# Step 2: Split each emoji sequence into individual emojis\n",
    "# Use regex to handle emojis correctly\n",
    "def split_emojis(emoji_sequence):\n",
    "    # Use the regex pattern \\X to match grapheme clusters (i.e., emojis)\n",
    "    return re.findall(r'\\X', emoji_sequence)"
   ]
  },
  {
   "cell_type": "code",
   "execution_count": 4,
   "metadata": {},
   "outputs": [],
   "source": [
    "# Apply the function to create a new column with the list of emojis\n",
    "df['emoji_list'] = df['input_emoticon'].apply(split_emojis)"
   ]
  },
  {
   "cell_type": "code",
   "execution_count": 5,
   "metadata": {},
   "outputs": [],
   "source": [
    "# Verify that all sequences have 13 emojis\n",
    "sequence_lengths = df['emoji_list'].apply(len)\n",
    "if not all(sequence_lengths == 13):\n",
    "    # Find rows with incorrect sequence lengths\n",
    "    incorrect_lengths = df[sequence_lengths != 13]\n",
    "    print(\"Warning: The following rows do not have 13 emojis:\")\n",
    "    print(incorrect_lengths)\n",
    "    # Optionally, handle these rows (e.g., drop them or pad/truncate the sequences)\n",
    "    # For now, we'll proceed but you may need to address this"
   ]
  },
  {
   "cell_type": "code",
   "execution_count": 6,
   "metadata": {},
   "outputs": [],
   "source": [
    "# Step 3: Collect all unique emojis and assign a unique numerical ID to each\n",
    "# Flatten the list of emoji lists to get all emojis\n",
    "all_emojis = [emoji for emoji_list in df['emoji_list'] for emoji in emoji_list]\n",
    "unique_emojis = sorted(set(all_emojis))\n",
    "emoji_to_id = {emoji: idx for idx, emoji in enumerate(unique_emojis)}"
   ]
  },
  {
   "cell_type": "code",
   "execution_count": 7,
   "metadata": {},
   "outputs": [],
   "source": [
    "# Save the mapping to a file (optional)\n",
    "with open('emoji_mapping.txt', 'w', encoding='utf-8') as f:\n",
    "    for emoji, idx in emoji_to_id.items():\n",
    "        f.write(f'{emoji}: {idx}\\n')"
   ]
  },
  {
   "cell_type": "code",
   "execution_count": 8,
   "metadata": {},
   "outputs": [],
   "source": [
    "# Step 4: Replace the emojis in the data with the assigned numbers\n",
    "# Convert each emoji in the list to its corresponding ID\n",
    "def emojis_to_ids(emoji_list):\n",
    "    return [emoji_to_id[emoji] for emoji in emoji_list]\n",
    "\n",
    "df['emoji_ids'] = df['emoji_list'].apply(emojis_to_ids)"
   ]
  },
  {
   "cell_type": "code",
   "execution_count": 9,
   "metadata": {},
   "outputs": [],
   "source": [
    "# Expand the emoji IDs into separate columns\n",
    "emoji_columns = [f'emoji_{i+1}' for i in range(13)]\n",
    "emoji_ids_df = pd.DataFrame(df['emoji_ids'].tolist(), columns=emoji_columns)"
   ]
  },
  {
   "cell_type": "code",
   "execution_count": 10,
   "metadata": {},
   "outputs": [],
   "source": [
    "# Combine the emoji ID columns with the label\n",
    "processed_df = pd.concat([emoji_ids_df, df['label']], axis=1)"
   ]
  },
  {
   "cell_type": "code",
   "execution_count": 11,
   "metadata": {},
   "outputs": [
    {
     "name": "stdout",
     "output_type": "stream",
     "text": [
      "Processing complete. The processed data has been saved to 'processed_train_emoticon.csv'.\n"
     ]
    }
   ],
   "source": [
    "# Step 5: Export the processed data to a new CSV file\n",
    "processed_df.to_csv('processed_train_emoticon.csv', index=False)\n",
    "\n",
    "print(\"Processing complete. The processed data has been saved to 'processed_train_emoticon.csv'.\")"
   ]
  }
 ],
 "metadata": {
  "kernelspec": {
   "display_name": "MLProj1env",
   "language": "python",
   "name": "python3"
  },
  "language_info": {
   "codemirror_mode": {
    "name": "ipython",
    "version": 3
   },
   "file_extension": ".py",
   "mimetype": "text/x-python",
   "name": "python",
   "nbconvert_exporter": "python",
   "pygments_lexer": "ipython3",
   "version": "3.12.3"
  }
 },
 "nbformat": 4,
 "nbformat_minor": 2
}
