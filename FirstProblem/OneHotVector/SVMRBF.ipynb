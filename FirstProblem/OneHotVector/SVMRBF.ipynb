{
 "cells": [
  {
   "cell_type": "code",
   "execution_count": 1,
   "metadata": {},
   "outputs": [],
   "source": [
    "import pandas as pd\n",
    "import numpy as nm \n",
    "\n",
    "# For Data Encoding\n",
    "from sklearn.preprocessing import MultiLabelBinarizer\n",
    "\n",
    "# For data splitting and model evaluation\n",
    "from sklearn.model_selection import train_test_split, GridSearchCV\n",
    "from sklearn.metrics import classification_report, confusion_matrix, accuracy_score\n",
    "\n",
    "# Import the SVM classifier\n",
    "from sklearn.svm import SVC\n",
    "\n",
    "# For scaling (optional)\n",
    "from sklearn.preprocessing import StandardScaler"
   ]
  },
  {
   "cell_type": "code",
   "execution_count": null,
   "metadata": {},
   "outputs": [],
   "source": [
    "# Load the dataset and Split each sequence into a list of individual emoticons\n",
    "emoticon_data = pd.read_csv(\"/home/belief/Desktop/MLAss1/mini-project-1/datasets/train/train_emoticon.csv\")\n",
    "emoticon_data['split_emoticons'] = emoticon_data['input_emoticon'].apply(list)\n",
    "\n",
    "# Remove the 'input_emoticon' column\n",
    "emoticon_data = emoticon_data.drop('input_emoticon', axis=1)\n",
    "\n",
    "print(emoticon_data)\n",
    "df = emoticon_data"
   ]
  },
  {
   "cell_type": "code",
   "execution_count": null,
   "metadata": {},
   "outputs": [],
   "source": [
    "mlb = MultiLabelBinarizer()\n",
    "\n",
    "# Fit the binarizer and transform the split_emoticons column\n",
    "emoji_encoded = mlb.fit_transform(df['split_emoticons'])\n",
    "\n",
    "# Create a DataFrame with the encoded emojis\n",
    "emoji_df = pd.DataFrame(emoji_encoded, columns=mlb.classes_)\n",
    "\n",
    "# Concatenate the label column with the encoded emojis\n",
    "final_df = pd.concat([emoji_df, df['label']], axis=1)\n",
    "\n",
    "print(final_df.head)\n",
    "print(final_df.shape)"
   ]
  },
  {
   "cell_type": "code",
   "execution_count": 4,
   "metadata": {},
   "outputs": [],
   "source": [
    "# Separate features and labels\n",
    "X = final_df.drop('label', axis=1)\n",
    "y = final_df['label']\n",
    "\n",
    "# Split the data: 80% training, 20% testing\n",
    "X_train, X_test, y_train, y_test = train_test_split(\n",
    "    X, y, test_size=0.2, random_state=42, stratify=y\n",
    ")\n",
    "\n",
    "# Initialize the scaler\n",
    "scaler = StandardScaler()\n",
    "\n",
    "# Fit the scaler on the training data and transform both training and test data\n",
    "X_train_scaled = scaler.fit_transform(X_train)\n",
    "X_test_scaled = scaler.transform(X_test)"
   ]
  },
  {
   "cell_type": "code",
   "execution_count": null,
   "metadata": {},
   "outputs": [],
   "source": [
    "# Initialize the SVM classifier with RBF kernel\n",
    "svm_classifier = SVC(kernel='rbf', random_state=42)\n",
    "\n",
    "# Train the classifier\n",
    "svm_classifier.fit(X_train_scaled, y_train)"
   ]
  },
  {
   "cell_type": "code",
   "execution_count": 6,
   "metadata": {},
   "outputs": [],
   "source": [
    "# Predict on the test data\n",
    "y_pred = svm_classifier.predict(X_test_scaled)"
   ]
  },
  {
   "cell_type": "code",
   "execution_count": null,
   "metadata": {},
   "outputs": [],
   "source": [
    "# Classification report\n",
    "print(\"Classification Report:\")\n",
    "print(classification_report(y_test, y_pred))\n",
    "\n",
    "# Confusion matrix\n",
    "print(\"Confusion Matrix:\")\n",
    "print(confusion_matrix(y_test, y_pred))"
   ]
  },
  {
   "cell_type": "code",
   "execution_count": null,
   "metadata": {},
   "outputs": [],
   "source": [
    "param_grid = {\n",
    "    'C': [0.1, 1, 10, 100, 1000],\n",
    "    'gamma': [1, 0.1, 0.01, 0.001],\n",
    "    'kernel': ['rbf']\n",
    "}\n",
    "\n",
    "# Initialize GridSearchCV\n",
    "grid = GridSearchCV(SVC(random_state=42), param_grid, refit=True, verbose=2, cv=5)\n",
    "\n",
    "# Fit the grid search to the data\n",
    "grid.fit(X_train_scaled, y_train)\n",
    "\n",
    "print(\"Best Parameters found by Grid Search:\")\n",
    "print(grid.best_params_)\n",
    "\n",
    "# Predict on the test data using the best estimator\n",
    "grid_predictions = grid.predict(X_test_scaled)\n",
    "\n",
    "# Classification report\n",
    "print(\"Classification Report after Hyperparameter Tuning:\")\n",
    "print(classification_report(y_test, grid_predictions))\n",
    "\n",
    "# Confusion matrix\n",
    "print(\"Confusion Matrix after Hyperparameter Tuning:\")\n",
    "print(confusion_matrix(y_test, grid_predictions))\n",
    "\n"
   ]
  }
 ],
 "metadata": {
  "kernelspec": {
   "display_name": "MLProj1env",
   "language": "python",
   "name": "python3"
  },
  "language_info": {
   "codemirror_mode": {
    "name": "ipython",
    "version": 3
   },
   "file_extension": ".py",
   "mimetype": "text/x-python",
   "name": "python",
   "nbconvert_exporter": "python",
   "pygments_lexer": "ipython3",
   "version": "3.12.3"
  }
 },
 "nbformat": 4,
 "nbformat_minor": 2
}
